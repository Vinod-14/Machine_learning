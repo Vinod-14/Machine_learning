{
 "cells": [
  {
   "cell_type": "code",
   "execution_count": null,
   "id": "1b4270d8",
   "metadata": {},
   "outputs": [],
   "source": [
    "import numpy as np\n",
    "import pandas as pd\n",
    "import seaborn as sns\n",
    "import matplotlib.pyplot as plt\n",
    "#plt.style.use('./deeplearning.mplstyle')\n",
    "from sklearn.model_selection import train_test_split\n",
    "from sklearn.preprocessing import MinMaxScaler\n",
    "from sklearn.metrics.pairwise import rbf_kernel\n",
    "from sklearn.svm import SVC\n",
    "from sklearn.metrics import confusion_matrix\n",
    "from sklearn.metrics import accuracy_score, precision_score, recall_score, f1_score"
   ]
  },
  {
   "cell_type": "code",
   "execution_count": 2,
   "id": "82dcf707",
   "metadata": {},
   "outputs": [
    {
     "name": "stderr",
     "output_type": "stream",
     "text": [
      "C:\\Users\\lenovo\\AppData\\Local\\Temp\\ipykernel_8960\\1091148969.py:1: DtypeWarning: Columns (26) have mixed types. Specify dtype option on import or set low_memory=False.\n",
      "  df=pd.read_csv(r\"C:\\Users\\lenovo\\OneDrive\\Desktop\\Machine_Learning\\Lab\\train.csv\")\n"
     ]
    }
   ],
   "source": [
    "df=pd.read_csv(r\"C:\\Users\\lenovo\\OneDrive\\Desktop\\Machine_Learning\\Lab\\train.csv\")\n",
    "test_df=pd.read_csv(r\"C:\\Users\\lenovo\\OneDrive\\Desktop\\Machine_Learning\\Lab\\test.csv\")"
   ]
  },
  {
   "cell_type": "code",
   "execution_count": 3,
   "id": "7103804b",
   "metadata": {
    "scrolled": true
   },
   "outputs": [
    {
     "data": {
      "text/plain": [
       "Index(['ID', 'Customer_ID', 'Month', 'Name', 'Age', 'SSN', 'Occupation',\n",
       "       'Annual_Income', 'Monthly_Inhand_Salary', 'Num_Bank_Accounts',\n",
       "       'Num_Credit_Card', 'Interest_Rate', 'Num_of_Loan', 'Type_of_Loan',\n",
       "       'Delay_from_due_date', 'Num_of_Delayed_Payment', 'Changed_Credit_Limit',\n",
       "       'Num_Credit_Inquiries', 'Credit_Mix', 'Outstanding_Debt',\n",
       "       'Credit_Utilization_Ratio', 'Credit_History_Age',\n",
       "       'Payment_of_Min_Amount', 'Total_EMI_per_month',\n",
       "       'Amount_invested_monthly', 'Payment_Behaviour', 'Monthly_Balance',\n",
       "       'Credit_Score'],\n",
       "      dtype='object')"
      ]
     },
     "execution_count": 3,
     "metadata": {},
     "output_type": "execute_result"
    }
   ],
   "source": [
    "df.columns"
   ]
  },
  {
   "cell_type": "code",
   "execution_count": 4,
   "id": "90caff65",
   "metadata": {},
   "outputs": [
    {
     "data": {
      "text/plain": [
       "(100000, 28)"
      ]
     },
     "execution_count": 4,
     "metadata": {},
     "output_type": "execute_result"
    }
   ],
   "source": [
    "df.shape"
   ]
  },
  {
   "cell_type": "code",
   "execution_count": 5,
   "id": "5ee6ee41",
   "metadata": {},
   "outputs": [
    {
     "data": {
      "text/plain": [
       "Monthly_Inhand_Salary      15002\n",
       "Type_of_Loan               11408\n",
       "Name                        9985\n",
       "Credit_History_Age          9030\n",
       "Num_of_Delayed_Payment      7002\n",
       "Amount_invested_monthly     4479\n",
       "Num_Credit_Inquiries        1965\n",
       "Monthly_Balance             1200\n",
       "ID                             0\n",
       "Customer_ID                    0\n",
       "dtype: int64"
      ]
     },
     "execution_count": 5,
     "metadata": {},
     "output_type": "execute_result"
    }
   ],
   "source": [
    "df.isnull().sum().nlargest(10)"
   ]
  },
  {
   "cell_type": "code",
   "execution_count": 6,
   "id": "53fcd07e",
   "metadata": {},
   "outputs": [],
   "source": [
    "salary_mean=df.Monthly_Inhand_Salary.mean()\n",
    "df.Monthly_Inhand_Salary=df.Monthly_Inhand_Salary.replace(np.nan,salary_mean)"
   ]
  },
  {
   "cell_type": "code",
   "execution_count": 7,
   "id": "41cb9ccf",
   "metadata": {},
   "outputs": [],
   "source": [
    "df.Num_of_Delayed_Payment=df.Num_of_Delayed_Payment.astype(str).str.replace(\"_\",'')\n",
    "df[\"Num_of_Delayed_Payment\"]=df[\"Num_of_Delayed_Payment\"].apply(lambda x: float(x))"
   ]
  },
  {
   "cell_type": "code",
   "execution_count": 8,
   "id": "772f83b8",
   "metadata": {},
   "outputs": [],
   "source": [
    "df.Num_of_Delayed_Payment=df.Num_of_Delayed_Payment.ffill()"
   ]
  },
  {
   "cell_type": "code",
   "execution_count": 9,
   "id": "1b2ca1cb",
   "metadata": {},
   "outputs": [],
   "source": [
    "df.Monthly_Balance=df.Monthly_Balance.astype(str).str.replace(\"_\",'')\n",
    "df.Monthly_Balance=df.Monthly_Balance.apply(lambda x:float(x))"
   ]
  },
  {
   "cell_type": "code",
   "execution_count": 10,
   "id": "b71523c0",
   "metadata": {},
   "outputs": [],
   "source": [
    "df.Monthly_Balance=df.Monthly_Balance.ffill()"
   ]
  },
  {
   "cell_type": "code",
   "execution_count": 11,
   "id": "5a0ed037",
   "metadata": {},
   "outputs": [],
   "source": [
    "df['Credit_History_Age'] = df['Credit_History_Age'].astype(str).str.replace(' Years and ','.')\n",
    "df['Credit_History_Age'] = df['Credit_History_Age'].astype(str).str.replace('Months','')\n",
    "df.Credit_History_Age=df.Credit_History_Age.apply(lambda x: float(x))"
   ]
  },
  {
   "cell_type": "code",
   "execution_count": 12,
   "id": "58446ab2",
   "metadata": {},
   "outputs": [],
   "source": [
    "df.Credit_History_Age.ffill(axis=0,inplace=True)"
   ]
  },
  {
   "cell_type": "code",
   "execution_count": 13,
   "id": "2d6f4af7",
   "metadata": {},
   "outputs": [],
   "source": [
    "df.Age=df.Age.astype(str).str.replace(\"_\",'')"
   ]
  },
  {
   "cell_type": "code",
   "execution_count": 14,
   "id": "ff26391d",
   "metadata": {},
   "outputs": [
    {
     "data": {
      "text/plain": [
       "(1895, 28)"
      ]
     },
     "execution_count": 14,
     "metadata": {},
     "output_type": "execute_result"
    }
   ],
   "source": [
    "df.Age=df.Age.apply(lambda x: float(x))\n",
    "df[df.Age>80].shape"
   ]
  },
  {
   "cell_type": "code",
   "execution_count": 15,
   "id": "63b5fde7",
   "metadata": {},
   "outputs": [],
   "source": [
    "df[\"Credit_Score\"]=df[\"Credit_Score\"].replace({\"Good\":\"low_risk\",\"Standard\":\"medium_risk\",\"Poor\":\"high_risk\"})"
   ]
  },
  {
   "cell_type": "code",
   "execution_count": 16,
   "id": "8092a442",
   "metadata": {},
   "outputs": [
    {
     "data": {
      "text/plain": [
       "0           low_risk\n",
       "1           low_risk\n",
       "2           low_risk\n",
       "3           low_risk\n",
       "4           low_risk\n",
       "            ...     \n",
       "99995      high_risk\n",
       "99996      high_risk\n",
       "99997      high_risk\n",
       "99998    medium_risk\n",
       "99999      high_risk\n",
       "Name: Credit_Score, Length: 100000, dtype: object"
      ]
     },
     "execution_count": 16,
     "metadata": {},
     "output_type": "execute_result"
    }
   ],
   "source": [
    "df[\"Credit_Score\"]"
   ]
  },
  {
   "cell_type": "code",
   "execution_count": 17,
   "id": "be599604",
   "metadata": {},
   "outputs": [],
   "source": [
    " df=df.drop_duplicates()\n"
   ]
  },
  {
   "cell_type": "code",
   "execution_count": 18,
   "id": "b2580bc7",
   "metadata": {},
   "outputs": [
    {
     "data": {
      "text/plain": [
       "Index(['ID', 'Customer_ID', 'Month', 'Name', 'Age', 'SSN', 'Occupation',\n",
       "       'Annual_Income', 'Monthly_Inhand_Salary', 'Num_Bank_Accounts',\n",
       "       'Num_Credit_Card', 'Interest_Rate', 'Num_of_Loan', 'Type_of_Loan',\n",
       "       'Delay_from_due_date', 'Num_of_Delayed_Payment', 'Changed_Credit_Limit',\n",
       "       'Num_Credit_Inquiries', 'Credit_Mix', 'Outstanding_Debt',\n",
       "       'Credit_Utilization_Ratio', 'Credit_History_Age',\n",
       "       'Payment_of_Min_Amount', 'Total_EMI_per_month',\n",
       "       'Amount_invested_monthly', 'Payment_Behaviour', 'Monthly_Balance',\n",
       "       'Credit_Score'],\n",
       "      dtype='object')"
      ]
     },
     "execution_count": 18,
     "metadata": {},
     "output_type": "execute_result"
    }
   ],
   "source": [
    "df.columns"
   ]
  },
  {
   "cell_type": "code",
   "execution_count": 19,
   "id": "12ecad2d",
   "metadata": {},
   "outputs": [],
   "source": [
    "df=df.drop([\"ID\",\"Customer_ID\",\"Name\",],axis=1)"
   ]
  },
  {
   "cell_type": "code",
   "execution_count": 20,
   "id": "2f44f1fd",
   "metadata": {},
   "outputs": [],
   "source": [
    "df=df[['Age', 'Occupation', 'Annual_Income', 'Delay_from_due_date',\n",
    "       'Num_of_Delayed_Payment', 'Monthly_Inhand_Salary','Outstanding_Debt', 'Credit_History_Age',\n",
    "       'Payment_of_Min_Amount', 'Total_EMI_per_month', 'Payment_Behaviour',\n",
    "       'Monthly_Balance', 'Credit_Score']]"
   ]
  },
  {
   "cell_type": "code",
   "execution_count": 21,
   "id": "95225e4e",
   "metadata": {},
   "outputs": [
    {
     "data": {
      "text/plain": [
       "Age                       float64\n",
       "Occupation                 object\n",
       "Annual_Income              object\n",
       "Delay_from_due_date         int64\n",
       "Num_of_Delayed_Payment    float64\n",
       "Monthly_Inhand_Salary     float64\n",
       "Outstanding_Debt           object\n",
       "Credit_History_Age        float64\n",
       "Payment_of_Min_Amount      object\n",
       "Total_EMI_per_month       float64\n",
       "Payment_Behaviour          object\n",
       "Monthly_Balance           float64\n",
       "Credit_Score               object\n",
       "dtype: object"
      ]
     },
     "execution_count": 21,
     "metadata": {},
     "output_type": "execute_result"
    }
   ],
   "source": [
    "df.dtypes"
   ]
  },
  {
   "cell_type": "code",
   "execution_count": 22,
   "id": "898b8fc7",
   "metadata": {},
   "outputs": [
    {
     "data": {
      "text/plain": [
       "0        19114.12\n",
       "1        19114.12\n",
       "2        19114.12\n",
       "3        19114.12\n",
       "4        19114.12\n",
       "           ...   \n",
       "99995    39628.99\n",
       "99996    39628.99\n",
       "99997    39628.99\n",
       "99998    39628.99\n",
       "99999    39628.99\n",
       "Name: Annual_Income, Length: 100000, dtype: float64"
      ]
     },
     "execution_count": 22,
     "metadata": {},
     "output_type": "execute_result"
    }
   ],
   "source": [
    "df['Annual_Income'] = df['Annual_Income'].astype(str).str.replace('_','')\n",
    "df.Annual_Income = pd.to_numeric(df['Annual_Income'])\n",
    "df.Annual_Income"
   ]
  },
  {
   "cell_type": "code",
   "execution_count": 23,
   "id": "1d51e411",
   "metadata": {},
   "outputs": [
    {
     "data": {
      "text/plain": [
       "dtype('float64')"
      ]
     },
     "execution_count": 23,
     "metadata": {},
     "output_type": "execute_result"
    }
   ],
   "source": [
    "df[\"Annual_Income\"].dtype"
   ]
  },
  {
   "cell_type": "code",
   "execution_count": 24,
   "id": "70edccbf",
   "metadata": {},
   "outputs": [],
   "source": [
    "df['Credit_History_Age'] = df['Credit_History_Age'].astype(str).str.replace(' Years and ','.')\n",
    "df['Credit_History_Age'] = df['Credit_History_Age'].astype(str).str.replace('Months','')\n"
   ]
  },
  {
   "cell_type": "code",
   "execution_count": 25,
   "id": "9ed6b246",
   "metadata": {},
   "outputs": [],
   "source": [
    "df['Credit_History_Age']=df['Credit_History_Age'].apply(lambda x:float(x))"
   ]
  },
  {
   "cell_type": "code",
   "execution_count": 26,
   "id": "f51c9368",
   "metadata": {},
   "outputs": [
    {
     "data": {
      "text/plain": [
       "0        22.1\n",
       "1        22.1\n",
       "2        22.3\n",
       "3        22.4\n",
       "4        22.5\n",
       "         ... \n",
       "99995    31.6\n",
       "99996    31.7\n",
       "99997    31.8\n",
       "99998    31.9\n",
       "99999    31.1\n",
       "Name: Credit_History_Age, Length: 100000, dtype: float64"
      ]
     },
     "execution_count": 26,
     "metadata": {},
     "output_type": "execute_result"
    }
   ],
   "source": [
    "df['Credit_History_Age']"
   ]
  },
  {
   "cell_type": "code",
   "execution_count": 27,
   "id": "72dffca4",
   "metadata": {},
   "outputs": [],
   "source": [
    "df['Payment_Behaviour'] = df['Payment_Behaviour'].astype(str).str.replace('Low_spent_Small_value_payments','1')\n",
    "df['Payment_Behaviour'] = df['Payment_Behaviour'].astype(str).str.replace('Low_spent_Medium_value_payments','2')\n",
    "df['Payment_Behaviour'] = df['Payment_Behaviour'].astype(str).str.replace('Low_spent_Large_value_payments','3')\n",
    "df['Payment_Behaviour'] = df['Payment_Behaviour'].astype(str).str.replace('High_spent_Small_value_payments','4')\n",
    "df['Payment_Behaviour'] = df['Payment_Behaviour'].astype(str).str.replace('High_spent_Medium_value_payments','5')\n",
    "df['Payment_Behaviour'] = df['Payment_Behaviour'].astype(str).str.replace('High_spent_Large_value_payments','6')\n",
    "\n",
    "df.Payment_Behaviour=df.Payment_Behaviour.apply(lambda x:int(x))"
   ]
  },
  {
   "cell_type": "code",
   "execution_count": 28,
   "id": "aa99128e",
   "metadata": {},
   "outputs": [
    {
     "data": {
      "text/plain": [
       "0        4\n",
       "1        3\n",
       "2        2\n",
       "3        1\n",
       "4        5\n",
       "        ..\n",
       "99995    6\n",
       "99996    5\n",
       "99997    6\n",
       "99998    3\n",
       "99999    4\n",
       "Name: Payment_Behaviour, Length: 100000, dtype: int64"
      ]
     },
     "execution_count": 28,
     "metadata": {},
     "output_type": "execute_result"
    }
   ],
   "source": [
    "df.Payment_Behaviour"
   ]
  },
  {
   "cell_type": "code",
   "execution_count": 29,
   "id": "add0ab99",
   "metadata": {},
   "outputs": [],
   "source": [
    "\n",
    "df['Credit_Score'] = df['Credit_Score'].astype(str).str.replace('low_risk','3')\n",
    "df['Credit_Score'] = df['Credit_Score'].astype(str).str.replace('medium_risk','2')\n",
    "df['Credit_Score'] = df['Credit_Score'].astype(str).str.replace('high_risk','1')\n",
    "df.Credit_Score = df.Credit_Score.apply(lambda x:int(x))\n",
    "\n",
    "\n",
    "\n",
    "df['Payment_of_Min_Amount'] = df['Payment_of_Min_Amount'].str.replace('NM', '0')\n",
    "df['Payment_of_Min_Amount'] = df['Payment_of_Min_Amount'].str.replace('Yes', '1')\n",
    "df['Payment_of_Min_Amount'] = df['Payment_of_Min_Amount'].str.replace('No', '2')\n",
    "df['Payment_of_Min_Amount'] = df['Payment_of_Min_Amount'].apply(lambda x:int(x))\n"
   ]
  },
  {
   "cell_type": "code",
   "execution_count": 30,
   "id": "4150fdfb",
   "metadata": {},
   "outputs": [],
   "source": [
    "df['Outstanding_Debt'] = df['Outstanding_Debt'].astype(str).str.replace('_','')\n",
    "df.Outstanding_Debt=pd.to_numeric(df[\"Outstanding_Debt\"])"
   ]
  },
  {
   "cell_type": "code",
   "execution_count": 31,
   "id": "40971c09",
   "metadata": {},
   "outputs": [],
   "source": [
    "Q1 = df.Annual_Income.quantile(0.25)\n",
    "Q3 = df.Annual_Income.quantile(0.75)\n",
    "IQR = Q3 - Q1\n",
    "df = df.drop(df.loc[df['Annual_Income'] > (Q3 + 1.5 * IQR)].index)\n",
    "df= df.drop(df.loc[df['Annual_Income'] < (Q1 - 1.5 * IQR)].index)"
   ]
  },
  {
   "cell_type": "code",
   "execution_count": 32,
   "id": "2f092737",
   "metadata": {},
   "outputs": [],
   "source": [
    "Q1 = df.Age.quantile(0.25)\n",
    "Q3 = df.Age.quantile(0.75)\n",
    "IQR = Q3 - Q1\n",
    "df = df.drop(df.loc[df['Age'] > (Q3 + 1.5 * IQR)].index)\n",
    "df= df.drop(df.loc[df['Age'] < (Q1 - 1.5 * IQR)].index)\n"
   ]
  },
  {
   "cell_type": "code",
   "execution_count": 33,
   "id": "62e2fce5",
   "metadata": {},
   "outputs": [
    {
     "name": "stderr",
     "output_type": "stream",
     "text": [
      "C:\\Users\\lenovo\\anaconda3\\lib\\site-packages\\seaborn\\_decorators.py:36: FutureWarning: Pass the following variable as a keyword arg: x. From version 0.12, the only valid positional argument will be `data`, and passing other arguments without an explicit keyword will result in an error or misinterpretation.\n",
      "  warnings.warn(\n"
     ]
    },
    {
     "data": {
      "text/plain": [
       "<AxesSubplot:xlabel='Annual_Income'>"
      ]
     },
     "execution_count": 33,
     "metadata": {},
     "output_type": "execute_result"
    },
    {
     "data": {
      "image/png": "[encoded data removed]",
      "text/plain": [
       "<Figure size 432x288 with 1 Axes>"
      ]
     },
     "metadata": {
      "needs_background": "light"
     },
     "output_type": "display_data"
    }
   ],
   "source": [
    "sns.boxplot(df[\"Annual_Income\"])"
   ]
  },
  {
   "cell_type": "code",
   "execution_count": 34,
   "id": "8a26fad7",
   "metadata": {},
   "outputs": [
    {
     "data": {
      "text/plain": [
       "<AxesSubplot:xlabel='Outstanding_Debt'>"
      ]
     },
     "execution_count": 34,
     "metadata": {},
     "output_type": "execute_result"
    },
    {
     "data": {
      "image/png": "[encoded data removed]",
      "text/plain": [
       "<Figure size 432x288 with 1 Axes>"
      ]
     },
     "metadata": {
      "needs_background": "light"
     },
     "output_type": "display_data"
    }
   ],
   "source": [
    "sns.boxplot(x=df['Outstanding_Debt'])"
   ]
  },
  {
   "cell_type": "code",
   "execution_count": 35,
   "id": "ff31c3d3",
   "metadata": {},
   "outputs": [
    {
     "data": {
      "image/png": "[encoded data removed]",
      "text/plain": [
       "<Figure size 432x288 with 1 Axes>"
      ]
     },
     "metadata": {},
     "output_type": "display_data"
    }
   ],
   "source": [
    "label = df.Credit_Score.value_counts().index\n",
    "label_count = df.Credit_Score.value_counts().values\n",
    "plt.pie(data=df, x=label_count, labels=label, autopct='%1.1f%%', shadow=True, radius=1)\n",
    "plt.show()"
   ]
  },
  {
   "cell_type": "code",
   "execution_count": 36,
   "id": "ee46fe5a",
   "metadata": {},
   "outputs": [
    {
     "data": {
      "text/html": [
       "<div>\n",
       "<style scoped>\n",
       "    .dataframe tbody tr th:only-of-type {\n",
       "        vertical-align: middle;\n",
       "    }\n",
       "\n",
       "    .dataframe tbody tr th {\n",
       "        vertical-align: top;\n",
       "    }\n",
       "\n",
       "    .dataframe thead th {\n",
       "        text-align: right;\n",
       "    }\n",
       "</style>\n",
       "<table border=\"1\" class=\"dataframe\">\n",
       "  <thead>\n",
       "    <tr style=\"text-align: right;\">\n",
       "      <th></th>\n",
       "      <th>Age</th>\n",
       "      <th>Annual_Income</th>\n",
       "      <th>Delay_from_due_date</th>\n",
       "      <th>Num_of_Delayed_Payment</th>\n",
       "      <th>Monthly_Inhand_Salary</th>\n",
       "      <th>Outstanding_Debt</th>\n",
       "      <th>Credit_History_Age</th>\n",
       "      <th>Payment_of_Min_Amount</th>\n",
       "      <th>Total_EMI_per_month</th>\n",
       "      <th>Payment_Behaviour</th>\n",
       "      <th>Monthly_Balance</th>\n",
       "      <th>Credit_Score</th>\n",
       "    </tr>\n",
       "  </thead>\n",
       "  <tbody>\n",
       "    <tr>\n",
       "      <th>Age</th>\n",
       "      <td>1.000000</td>\n",
       "      <td>0.090443</td>\n",
       "      <td>-0.172844</td>\n",
       "      <td>0.000546</td>\n",
       "      <td>0.081421</td>\n",
       "      <td>-0.202710</td>\n",
       "      <td>0.231597</td>\n",
       "      <td>0.184264</td>\n",
       "      <td>0.000441</td>\n",
       "      <td>0.032298</td>\n",
       "      <td>-0.001759</td>\n",
       "      <td>0.161274</td>\n",
       "    </tr>\n",
       "    <tr>\n",
       "      <th>Annual_Income</th>\n",
       "      <td>0.090443</td>\n",
       "      <td>1.000000</td>\n",
       "      <td>-0.226208</td>\n",
       "      <td>0.001718</td>\n",
       "      <td>0.920164</td>\n",
       "      <td>-0.259157</td>\n",
       "      <td>0.252157</td>\n",
       "      <td>0.179067</td>\n",
       "      <td>0.008332</td>\n",
       "      <td>0.299390</td>\n",
       "      <td>-0.001351</td>\n",
       "      <td>0.198818</td>\n",
       "    </tr>\n",
       "    <tr>\n",
       "      <th>Delay_from_due_date</th>\n",
       "      <td>-0.172844</td>\n",
       "      <td>-0.226208</td>\n",
       "      <td>1.000000</td>\n",
       "      <td>0.012380</td>\n",
       "      <td>-0.208535</td>\n",
       "      <td>0.569333</td>\n",
       "      <td>-0.481407</td>\n",
       "      <td>-0.335567</td>\n",
       "      <td>-0.004656</td>\n",
       "      <td>-0.076556</td>\n",
       "      <td>0.004719</td>\n",
       "      <td>-0.429561</td>\n",
       "    </tr>\n",
       "    <tr>\n",
       "      <th>Num_of_Delayed_Payment</th>\n",
       "      <td>0.000546</td>\n",
       "      <td>0.001718</td>\n",
       "      <td>0.012380</td>\n",
       "      <td>1.000000</td>\n",
       "      <td>0.001490</td>\n",
       "      <td>0.010334</td>\n",
       "      <td>-0.008828</td>\n",
       "      <td>-0.008801</td>\n",
       "      <td>0.000435</td>\n",
       "      <td>0.003037</td>\n",
       "      <td>0.000919</td>\n",
       "      <td>-0.007754</td>\n",
       "    </tr>\n",
       "    <tr>\n",
       "      <th>Monthly_Inhand_Salary</th>\n",
       "      <td>0.081421</td>\n",
       "      <td>0.920164</td>\n",
       "      <td>-0.208535</td>\n",
       "      <td>0.001490</td>\n",
       "      <td>1.000000</td>\n",
       "      <td>-0.239133</td>\n",
       "      <td>0.233275</td>\n",
       "      <td>0.164766</td>\n",
       "      <td>0.006827</td>\n",
       "      <td>0.275722</td>\n",
       "      <td>-0.001243</td>\n",
       "      <td>0.180141</td>\n",
       "    </tr>\n",
       "    <tr>\n",
       "      <th>Outstanding_Debt</th>\n",
       "      <td>-0.202710</td>\n",
       "      <td>-0.259157</td>\n",
       "      <td>0.569333</td>\n",
       "      <td>0.010334</td>\n",
       "      <td>-0.239133</td>\n",
       "      <td>1.000000</td>\n",
       "      <td>-0.621745</td>\n",
       "      <td>-0.326159</td>\n",
       "      <td>-0.005456</td>\n",
       "      <td>-0.090089</td>\n",
       "      <td>0.001508</td>\n",
       "      <td>-0.386732</td>\n",
       "    </tr>\n",
       "    <tr>\n",
       "      <th>Credit_History_Age</th>\n",
       "      <td>0.231597</td>\n",
       "      <td>0.252157</td>\n",
       "      <td>-0.481407</td>\n",
       "      <td>-0.008828</td>\n",
       "      <td>0.233275</td>\n",
       "      <td>-0.621745</td>\n",
       "      <td>1.000000</td>\n",
       "      <td>0.384722</td>\n",
       "      <td>0.004457</td>\n",
       "      <td>0.084326</td>\n",
       "      <td>-0.003378</td>\n",
       "      <td>0.382849</td>\n",
       "    </tr>\n",
       "    <tr>\n",
       "      <th>Payment_of_Min_Amount</th>\n",
       "      <td>0.184264</td>\n",
       "      <td>0.179067</td>\n",
       "      <td>-0.335567</td>\n",
       "      <td>-0.008801</td>\n",
       "      <td>0.164766</td>\n",
       "      <td>-0.326159</td>\n",
       "      <td>0.384722</td>\n",
       "      <td>1.000000</td>\n",
       "      <td>0.000188</td>\n",
       "      <td>0.059075</td>\n",
       "      <td>0.000071</td>\n",
       "      <td>0.292416</td>\n",
       "    </tr>\n",
       "    <tr>\n",
       "      <th>Total_EMI_per_month</th>\n",
       "      <td>0.000441</td>\n",
       "      <td>0.008332</td>\n",
       "      <td>-0.004656</td>\n",
       "      <td>0.000435</td>\n",
       "      <td>0.006827</td>\n",
       "      <td>-0.005456</td>\n",
       "      <td>0.004457</td>\n",
       "      <td>0.000188</td>\n",
       "      <td>1.000000</td>\n",
       "      <td>0.004512</td>\n",
       "      <td>-0.000277</td>\n",
       "      <td>0.005004</td>\n",
       "    </tr>\n",
       "    <tr>\n",
       "      <th>Payment_Behaviour</th>\n",
       "      <td>0.032298</td>\n",
       "      <td>0.299390</td>\n",
       "      <td>-0.076556</td>\n",
       "      <td>0.003037</td>\n",
       "      <td>0.275722</td>\n",
       "      <td>-0.090089</td>\n",
       "      <td>0.084326</td>\n",
       "      <td>0.059075</td>\n",
       "      <td>0.004512</td>\n",
       "      <td>1.000000</td>\n",
       "      <td>0.005220</td>\n",
       "      <td>0.112576</td>\n",
       "    </tr>\n",
       "    <tr>\n",
       "      <th>Monthly_Balance</th>\n",
       "      <td>-0.001759</td>\n",
       "      <td>-0.001351</td>\n",
       "      <td>0.004719</td>\n",
       "      <td>0.000919</td>\n",
       "      <td>-0.001243</td>\n",
       "      <td>0.001508</td>\n",
       "      <td>-0.003378</td>\n",
       "      <td>0.000071</td>\n",
       "      <td>-0.000277</td>\n",
       "      <td>0.005220</td>\n",
       "      <td>1.000000</td>\n",
       "      <td>-0.001740</td>\n",
       "    </tr>\n",
       "    <tr>\n",
       "      <th>Credit_Score</th>\n",
       "      <td>0.161274</td>\n",
       "      <td>0.198818</td>\n",
       "      <td>-0.429561</td>\n",
       "      <td>-0.007754</td>\n",
       "      <td>0.180141</td>\n",
       "      <td>-0.386732</td>\n",
       "      <td>0.382849</td>\n",
       "      <td>0.292416</td>\n",
       "      <td>0.005004</td>\n",
       "      <td>0.112576</td>\n",
       "      <td>-0.001740</td>\n",
       "      <td>1.000000</td>\n",
       "    </tr>\n",
       "  </tbody>\n",
       "</table>\n",
       "</div>"
      ],
      "text/plain": [
       "                             Age  Annual_Income  Delay_from_due_date  \\\n",
       "Age                     1.000000       0.090443            -0.172844   \n",
       "Annual_Income           0.090443       1.000000            -0.226208   \n",
       "Delay_from_due_date    -0.172844      -0.226208             1.000000   \n",
       "Num_of_Delayed_Payment  0.000546       0.001718             0.012380   \n",
       "Monthly_Inhand_Salary   0.081421       0.920164            -0.208535   \n",
       "Outstanding_Debt       -0.202710      -0.259157             0.569333   \n",
       "Credit_History_Age      0.231597       0.252157            -0.481407   \n",
       "Payment_of_Min_Amount   0.184264       0.179067            -0.335567   \n",
       "Total_EMI_per_month     0.000441       0.008332            -0.004656   \n",
       "Payment_Behaviour       0.032298       0.299390            -0.076556   \n",
       "Monthly_Balance        -0.001759      -0.001351             0.004719   \n",
       "Credit_Score            0.161274       0.198818            -0.429561   \n",
       "\n",
       "                        Num_of_Delayed_Payment  Monthly_Inhand_Salary  \\\n",
       "Age                                   0.000546               0.081421   \n",
       "Annual_Income                         0.001718               0.920164   \n",
       "Delay_from_due_date                   0.012380              -0.208535   \n",
       "Num_of_Delayed_Payment                1.000000               0.001490   \n",
       "Monthly_Inhand_Salary                 0.001490               1.000000   \n",
       "Outstanding_Debt                      0.010334              -0.239133   \n",
       "Credit_History_Age                   -0.008828               0.233275   \n",
       "Payment_of_Min_Amount                -0.008801               0.164766   \n",
       "Total_EMI_per_month                   0.000435               0.006827   \n",
       "Payment_Behaviour                     0.003037               0.275722   \n",
       "Monthly_Balance                       0.000919              -0.001243   \n",
       "Credit_Score                         -0.007754               0.180141   \n",
       "\n",
       "                        Outstanding_Debt  Credit_History_Age  \\\n",
       "Age                            -0.202710            0.231597   \n",
       "Annual_Income                  -0.259157            0.252157   \n",
       "Delay_from_due_date             0.569333           -0.481407   \n",
       "Num_of_Delayed_Payment          0.010334           -0.008828   \n",
       "Monthly_Inhand_Salary          -0.239133            0.233275   \n",
       "Outstanding_Debt                1.000000           -0.621745   \n",
       "Credit_History_Age             -0.621745            1.000000   \n",
       "Payment_of_Min_Amount          -0.326159            0.384722   \n",
       "Total_EMI_per_month            -0.005456            0.004457   \n",
       "Payment_Behaviour              -0.090089            0.084326   \n",
       "Monthly_Balance                 0.001508           -0.003378   \n",
       "Credit_Score                   -0.386732            0.382849   \n",
       "\n",
       "                        Payment_of_Min_Amount  Total_EMI_per_month  \\\n",
       "Age                                  0.184264             0.000441   \n",
       "Annual_Income                        0.179067             0.008332   \n",
       "Delay_from_due_date                 -0.335567            -0.004656   \n",
       "Num_of_Delayed_Payment              -0.008801             0.000435   \n",
       "Monthly_Inhand_Salary                0.164766             0.006827   \n",
       "Outstanding_Debt                    -0.326159            -0.005456   \n",
       "Credit_History_Age                   0.384722             0.004457   \n",
       "Payment_of_Min_Amount                1.000000             0.000188   \n",
       "Total_EMI_per_month                  0.000188             1.000000   \n",
       "Payment_Behaviour                    0.059075             0.004512   \n",
       "Monthly_Balance                      0.000071            -0.000277   \n",
       "Credit_Score                         0.292416             0.005004   \n",
       "\n",
       "                        Payment_Behaviour  Monthly_Balance  Credit_Score  \n",
       "Age                              0.032298        -0.001759      0.161274  \n",
       "Annual_Income                    0.299390        -0.001351      0.198818  \n",
       "Delay_from_due_date             -0.076556         0.004719     -0.429561  \n",
       "Num_of_Delayed_Payment           0.003037         0.000919     -0.007754  \n",
       "Monthly_Inhand_Salary            0.275722        -0.001243      0.180141  \n",
       "Outstanding_Debt                -0.090089         0.001508     -0.386732  \n",
       "Credit_History_Age               0.084326        -0.003378      0.382849  \n",
       "Payment_of_Min_Amount            0.059075         0.000071      0.292416  \n",
       "Total_EMI_per_month              0.004512        -0.000277      0.005004  \n",
       "Payment_Behaviour                1.000000         0.005220      0.112576  \n",
       "Monthly_Balance                  0.005220         1.000000     -0.001740  \n",
       "Credit_Score                     0.112576        -0.001740      1.000000  "
      ]
     },
     "execution_count": 36,
     "metadata": {},
     "output_type": "execute_result"
    },
    {
     "data": {
      "image/png": "[encoded data removed]",
      "text/plain": [
       "<Figure size 720x432 with 2 Axes>"
      ]
     },
     "metadata": {
      "needs_background": "light"
     },
     "output_type": "display_data"
    }
   ],
   "source": [
    "plt.figure(figsize=(10,6))\n",
    "c= df.corr()\n",
    "sns.heatmap(c,cmap=\"BrBG\",annot=True)\n",
    "c"
   ]
  },
  {
   "cell_type": "code",
   "execution_count": 37,
   "id": "93d45c1a",
   "metadata": {},
   "outputs": [],
   "source": [
    "from sklearn.neighbors import KNeighborsClassifier"
   ]
  },
  {
   "cell_type": "code",
   "execution_count": 38,
   "id": "84e109f6",
   "metadata": {},
   "outputs": [
    {
     "data": {
      "text/html": [
       "<div>\n",
       "<style scoped>\n",
       "    .dataframe tbody tr th:only-of-type {\n",
       "        vertical-align: middle;\n",
       "    }\n",
       "\n",
       "    .dataframe tbody tr th {\n",
       "        vertical-align: top;\n",
       "    }\n",
       "\n",
       "    .dataframe thead th {\n",
       "        text-align: right;\n",
       "    }\n",
       "</style>\n",
       "<table border=\"1\" class=\"dataframe\">\n",
       "  <thead>\n",
       "    <tr style=\"text-align: right;\">\n",
       "      <th></th>\n",
       "      <th>Age</th>\n",
       "      <th>Occupation</th>\n",
       "      <th>Annual_Income</th>\n",
       "      <th>Delay_from_due_date</th>\n",
       "      <th>Num_of_Delayed_Payment</th>\n",
       "      <th>Monthly_Inhand_Salary</th>\n",
       "      <th>Outstanding_Debt</th>\n",
       "      <th>Credit_History_Age</th>\n",
       "      <th>Payment_of_Min_Amount</th>\n",
       "      <th>Total_EMI_per_month</th>\n",
       "      <th>Payment_Behaviour</th>\n",
       "      <th>Monthly_Balance</th>\n",
       "      <th>Credit_Score</th>\n",
       "    </tr>\n",
       "  </thead>\n",
       "  <tbody>\n",
       "    <tr>\n",
       "      <th>0</th>\n",
       "      <td>0.214286</td>\n",
       "      <td>Scientist</td>\n",
       "      <td>0.083178</td>\n",
       "      <td>0.111111</td>\n",
       "      <td>0.002273</td>\n",
       "      <td>1824.843333</td>\n",
       "      <td>0.16202</td>\n",
       "      <td>0.652819</td>\n",
       "      <td>2</td>\n",
       "      <td>0.000602</td>\n",
       "      <td>4</td>\n",
       "      <td>1.0</td>\n",
       "      <td>3</td>\n",
       "    </tr>\n",
       "    <tr>\n",
       "      <th>1</th>\n",
       "      <td>0.214286</td>\n",
       "      <td>Scientist</td>\n",
       "      <td>0.083178</td>\n",
       "      <td>0.055556</td>\n",
       "      <td>0.002273</td>\n",
       "      <td>4194.170850</td>\n",
       "      <td>0.16202</td>\n",
       "      <td>0.652819</td>\n",
       "      <td>2</td>\n",
       "      <td>0.000602</td>\n",
       "      <td>3</td>\n",
       "      <td>1.0</td>\n",
       "      <td>3</td>\n",
       "    </tr>\n",
       "    <tr>\n",
       "      <th>3</th>\n",
       "      <td>0.214286</td>\n",
       "      <td>Scientist</td>\n",
       "      <td>0.083178</td>\n",
       "      <td>0.138889</td>\n",
       "      <td>0.001591</td>\n",
       "      <td>4194.170850</td>\n",
       "      <td>0.16202</td>\n",
       "      <td>0.661721</td>\n",
       "      <td>2</td>\n",
       "      <td>0.000602</td>\n",
       "      <td>1</td>\n",
       "      <td>1.0</td>\n",
       "      <td>3</td>\n",
       "    </tr>\n",
       "    <tr>\n",
       "      <th>4</th>\n",
       "      <td>0.214286</td>\n",
       "      <td>Scientist</td>\n",
       "      <td>0.083178</td>\n",
       "      <td>0.152778</td>\n",
       "      <td>0.001591</td>\n",
       "      <td>1824.843333</td>\n",
       "      <td>0.16202</td>\n",
       "      <td>0.664688</td>\n",
       "      <td>2</td>\n",
       "      <td>0.000602</td>\n",
       "      <td>5</td>\n",
       "      <td>1.0</td>\n",
       "      <td>3</td>\n",
       "    </tr>\n",
       "    <tr>\n",
       "      <th>5</th>\n",
       "      <td>0.214286</td>\n",
       "      <td>Scientist</td>\n",
       "      <td>0.083178</td>\n",
       "      <td>0.180556</td>\n",
       "      <td>0.001591</td>\n",
       "      <td>4194.170850</td>\n",
       "      <td>0.16202</td>\n",
       "      <td>0.667656</td>\n",
       "      <td>2</td>\n",
       "      <td>0.000602</td>\n",
       "      <td>4</td>\n",
       "      <td>1.0</td>\n",
       "      <td>3</td>\n",
       "    </tr>\n",
       "  </tbody>\n",
       "</table>\n",
       "</div>"
      ],
      "text/plain": [
       "        Age Occupation  Annual_Income  Delay_from_due_date  \\\n",
       "0  0.214286  Scientist       0.083178             0.111111   \n",
       "1  0.214286  Scientist       0.083178             0.055556   \n",
       "3  0.214286  Scientist       0.083178             0.138889   \n",
       "4  0.214286  Scientist       0.083178             0.152778   \n",
       "5  0.214286  Scientist       0.083178             0.180556   \n",
       "\n",
       "   Num_of_Delayed_Payment  Monthly_Inhand_Salary  Outstanding_Debt  \\\n",
       "0                0.002273            1824.843333           0.16202   \n",
       "1                0.002273            4194.170850           0.16202   \n",
       "3                0.001591            4194.170850           0.16202   \n",
       "4                0.001591            1824.843333           0.16202   \n",
       "5                0.001591            4194.170850           0.16202   \n",
       "\n",
       "   Credit_History_Age  Payment_of_Min_Amount  Total_EMI_per_month  \\\n",
       "0            0.652819                      2             0.000602   \n",
       "1            0.652819                      2             0.000602   \n",
       "3            0.661721                      2             0.000602   \n",
       "4            0.664688                      2             0.000602   \n",
       "5            0.667656                      2             0.000602   \n",
       "\n",
       "   Payment_Behaviour  Monthly_Balance  Credit_Score  \n",
       "0                  4              1.0             3  \n",
       "1                  3              1.0             3  \n",
       "3                  1              1.0             3  \n",
       "4                  5              1.0             3  \n",
       "5                  4              1.0             3  "
      ]
     },
     "execution_count": 38,
     "metadata": {},
     "output_type": "execute_result"
    }
   ],
   "source": [
    "scaler = MinMaxScaler()\n",
    "col_float = ['Age','Annual_Income','Delay_from_due_date','Num_of_Delayed_Payment',\n",
    "             'Outstanding_Debt','Credit_History_Age','Total_EMI_per_month','Monthly_Balance']\n",
    "for i in df[col_float]:\n",
    "    df[i] = scaler.fit_transform(df[[i]])\n",
    "df.head()"
   ]
  },
  {
   "cell_type": "code",
   "execution_count": 39,
   "id": "ee81b007",
   "metadata": {},
   "outputs": [
    {
     "data": {
      "text/html": [
       "<div>\n",
       "<style scoped>\n",
       "    .dataframe tbody tr th:only-of-type {\n",
       "        vertical-align: middle;\n",
       "    }\n",
       "\n",
       "    .dataframe tbody tr th {\n",
       "        vertical-align: top;\n",
       "    }\n",
       "\n",
       "    .dataframe thead th {\n",
       "        text-align: right;\n",
       "    }\n",
       "</style>\n",
       "<table border=\"1\" class=\"dataframe\">\n",
       "  <thead>\n",
       "    <tr style=\"text-align: right;\">\n",
       "      <th></th>\n",
       "      <th>Age</th>\n",
       "      <th>Annual_Income</th>\n",
       "      <th>Delay_from_due_date</th>\n",
       "      <th>Num_of_Delayed_Payment</th>\n",
       "      <th>Monthly_Inhand_Salary</th>\n",
       "      <th>Outstanding_Debt</th>\n",
       "      <th>Credit_History_Age</th>\n",
       "      <th>Payment_of_Min_Amount</th>\n",
       "      <th>Total_EMI_per_month</th>\n",
       "      <th>Payment_Behaviour</th>\n",
       "      <th>...</th>\n",
       "      <th>Occupation_Journalist</th>\n",
       "      <th>Occupation_Lawyer</th>\n",
       "      <th>Occupation_Manager</th>\n",
       "      <th>Occupation_Mechanic</th>\n",
       "      <th>Occupation_Media_Manager</th>\n",
       "      <th>Occupation_Musician</th>\n",
       "      <th>Occupation_Scientist</th>\n",
       "      <th>Occupation_Teacher</th>\n",
       "      <th>Occupation_Writer</th>\n",
       "      <th>Occupation________</th>\n",
       "    </tr>\n",
       "  </thead>\n",
       "  <tbody>\n",
       "    <tr>\n",
       "      <th>0</th>\n",
       "      <td>0.214286</td>\n",
       "      <td>0.083178</td>\n",
       "      <td>0.111111</td>\n",
       "      <td>0.002273</td>\n",
       "      <td>1824.843333</td>\n",
       "      <td>0.16202</td>\n",
       "      <td>0.652819</td>\n",
       "      <td>2</td>\n",
       "      <td>0.000602</td>\n",
       "      <td>4</td>\n",
       "      <td>...</td>\n",
       "      <td>0</td>\n",
       "      <td>0</td>\n",
       "      <td>0</td>\n",
       "      <td>0</td>\n",
       "      <td>0</td>\n",
       "      <td>0</td>\n",
       "      <td>1</td>\n",
       "      <td>0</td>\n",
       "      <td>0</td>\n",
       "      <td>0</td>\n",
       "    </tr>\n",
       "    <tr>\n",
       "      <th>1</th>\n",
       "      <td>0.214286</td>\n",
       "      <td>0.083178</td>\n",
       "      <td>0.055556</td>\n",
       "      <td>0.002273</td>\n",
       "      <td>4194.170850</td>\n",
       "      <td>0.16202</td>\n",
       "      <td>0.652819</td>\n",
       "      <td>2</td>\n",
       "      <td>0.000602</td>\n",
       "      <td>3</td>\n",
       "      <td>...</td>\n",
       "      <td>0</td>\n",
       "      <td>0</td>\n",
       "      <td>0</td>\n",
       "      <td>0</td>\n",
       "      <td>0</td>\n",
       "      <td>0</td>\n",
       "      <td>1</td>\n",
       "      <td>0</td>\n",
       "      <td>0</td>\n",
       "      <td>0</td>\n",
       "    </tr>\n",
       "    <tr>\n",
       "      <th>3</th>\n",
       "      <td>0.214286</td>\n",
       "      <td>0.083178</td>\n",
       "      <td>0.138889</td>\n",
       "      <td>0.001591</td>\n",
       "      <td>4194.170850</td>\n",
       "      <td>0.16202</td>\n",
       "      <td>0.661721</td>\n",
       "      <td>2</td>\n",
       "      <td>0.000602</td>\n",
       "      <td>1</td>\n",
       "      <td>...</td>\n",
       "      <td>0</td>\n",
       "      <td>0</td>\n",
       "      <td>0</td>\n",
       "      <td>0</td>\n",
       "      <td>0</td>\n",
       "      <td>0</td>\n",
       "      <td>1</td>\n",
       "      <td>0</td>\n",
       "      <td>0</td>\n",
       "      <td>0</td>\n",
       "    </tr>\n",
       "    <tr>\n",
       "      <th>4</th>\n",
       "      <td>0.214286</td>\n",
       "      <td>0.083178</td>\n",
       "      <td>0.152778</td>\n",
       "      <td>0.001591</td>\n",
       "      <td>1824.843333</td>\n",
       "      <td>0.16202</td>\n",
       "      <td>0.664688</td>\n",
       "      <td>2</td>\n",
       "      <td>0.000602</td>\n",
       "      <td>5</td>\n",
       "      <td>...</td>\n",
       "      <td>0</td>\n",
       "      <td>0</td>\n",
       "      <td>0</td>\n",
       "      <td>0</td>\n",
       "      <td>0</td>\n",
       "      <td>0</td>\n",
       "      <td>1</td>\n",
       "      <td>0</td>\n",
       "      <td>0</td>\n",
       "      <td>0</td>\n",
       "    </tr>\n",
       "    <tr>\n",
       "      <th>5</th>\n",
       "      <td>0.214286</td>\n",
       "      <td>0.083178</td>\n",
       "      <td>0.180556</td>\n",
       "      <td>0.001591</td>\n",
       "      <td>4194.170850</td>\n",
       "      <td>0.16202</td>\n",
       "      <td>0.667656</td>\n",
       "      <td>2</td>\n",
       "      <td>0.000602</td>\n",
       "      <td>4</td>\n",
       "      <td>...</td>\n",
       "      <td>0</td>\n",
       "      <td>0</td>\n",
       "      <td>0</td>\n",
       "      <td>0</td>\n",
       "      <td>0</td>\n",
       "      <td>0</td>\n",
       "      <td>1</td>\n",
       "      <td>0</td>\n",
       "      <td>0</td>\n",
       "      <td>0</td>\n",
       "    </tr>\n",
       "  </tbody>\n",
       "</table>\n",
       "<p>5 rows × 28 columns</p>\n",
       "</div>"
      ],
      "text/plain": [
       "        Age  Annual_Income  Delay_from_due_date  Num_of_Delayed_Payment  \\\n",
       "0  0.214286       0.083178             0.111111                0.002273   \n",
       "1  0.214286       0.083178             0.055556                0.002273   \n",
       "3  0.214286       0.083178             0.138889                0.001591   \n",
       "4  0.214286       0.083178             0.152778                0.001591   \n",
       "5  0.214286       0.083178             0.180556                0.001591   \n",
       "\n",
       "   Monthly_Inhand_Salary  Outstanding_Debt  Credit_History_Age  \\\n",
       "0            1824.843333           0.16202            0.652819   \n",
       "1            4194.170850           0.16202            0.652819   \n",
       "3            4194.170850           0.16202            0.661721   \n",
       "4            1824.843333           0.16202            0.664688   \n",
       "5            4194.170850           0.16202            0.667656   \n",
       "\n",
       "   Payment_of_Min_Amount  Total_EMI_per_month  Payment_Behaviour  ...  \\\n",
       "0                      2             0.000602                  4  ...   \n",
       "1                      2             0.000602                  3  ...   \n",
       "3                      2             0.000602                  1  ...   \n",
       "4                      2             0.000602                  5  ...   \n",
       "5                      2             0.000602                  4  ...   \n",
       "\n",
       "   Occupation_Journalist  Occupation_Lawyer  Occupation_Manager  \\\n",
       "0                      0                  0                   0   \n",
       "1                      0                  0                   0   \n",
       "3                      0                  0                   0   \n",
       "4                      0                  0                   0   \n",
       "5                      0                  0                   0   \n",
       "\n",
       "   Occupation_Mechanic  Occupation_Media_Manager  Occupation_Musician  \\\n",
       "0                    0                         0                    0   \n",
       "1                    0                         0                    0   \n",
       "3                    0                         0                    0   \n",
       "4                    0                         0                    0   \n",
       "5                    0                         0                    0   \n",
       "\n",
       "   Occupation_Scientist  Occupation_Teacher  Occupation_Writer  \\\n",
       "0                     1                   0                  0   \n",
       "1                     1                   0                  0   \n",
       "3                     1                   0                  0   \n",
       "4                     1                   0                  0   \n",
       "5                     1                   0                  0   \n",
       "\n",
       "   Occupation________  \n",
       "0                   0  \n",
       "1                   0  \n",
       "3                   0  \n",
       "4                   0  \n",
       "5                   0  \n",
       "\n",
       "[5 rows x 28 columns]"
      ]
     },
     "execution_count": 39,
     "metadata": {},
     "output_type": "execute_result"
    }
   ],
   "source": [
    "df = pd.get_dummies(df, prefix='Occupation', columns=['Occupation'], drop_first=False)\n",
    "df.head()"
   ]
  },
  {
   "cell_type": "code",
   "execution_count": 40,
   "id": "dcc3b54f",
   "metadata": {},
   "outputs": [],
   "source": [
    "x=df.drop('Credit_Score',axis = 1)"
   ]
  },
  {
   "cell_type": "code",
   "execution_count": 41,
   "id": "20ef935b",
   "metadata": {},
   "outputs": [],
   "source": [
    "y=df['Credit_Score']\n",
    "x_train, x_test, y_train, y_test = train_test_split(x, y, test_size=0.2)\n"
   ]
  },
  {
   "cell_type": "code",
   "execution_count": null,
   "id": "6d36a884",
   "metadata": {},
   "outputs": [],
   "source": [
    "#RBF=\"Radial Basis Function\"\n",
    "svm_model=SVC(C=1000,kernel='rbf',random_state=0,gamma=0.0055,decision_function_shape='ovo')\n",
    "svm_model=svm_model.fit(x_train,y_train)"
   ]
  },
  {
   "cell_type": "code",
   "execution_count": null,
   "id": "99704349",
   "metadata": {},
   "outputs": [],
   "source": [
    "y_pred = svm_model.predict(x_test)\n",
    "accuracy = accuracy_score(y_test, y_pred)\n",
    "precision = precision_score(y_test, y_pred, average='macro')\n",
    "recall = recall_score(y_test, y_pred, average='macro')\n",
    "f1 = f1_score(y_test, y_pred, average='macro')\n",
    "\n",
    "# Print results\n",
    "print('Accuracy:', accuracy)\n",
    "print('Precision:', precision)\n",
    "print('Recall:', recall)\n",
    "print('F1 Score:', f1)"
   ]
  },
  {
   "cell_type": "code",
   "execution_count": null,
   "id": "21cd1329",
   "metadata": {},
   "outputs": [],
   "source": [
    "# Print results\n",
    "print('Accuracy:', accuracy*100)\n",
    "print('Precision:', precision*100)\n",
    "print('Recall:', recall*100)\n",
    "print('F1 Score:', f1*100)"
   ]
  },
  {
   "cell_type": "code",
   "execution_count": null,
   "id": "712b8af5",
   "metadata": {},
   "outputs": [],
   "source": [
    "## The Dataset is too large it contains nearly 1 lakh rows\n",
    "## variuos parameters are used to increase the Accuracy, but the score is decreasing"
   ]
  }
 ],
 "metadata": {
  "kernelspec": {
   "display_name": "Python 3 (ipykernel)",
   "language": "python",
   "name": "python3"
  },
  "language_info": {
   "codemirror_mode": {
    "name": "ipython",
    "version": 3
   },
   "file_extension": ".py",
   "mimetype": "text/x-python",
   "name": "python",
   "nbconvert_exporter": "python",
   "pygments_lexer": "ipython3",
   "version": "3.9.12"
  }
 },
 "nbformat": 4,
 "nbformat_minor": 5
}
